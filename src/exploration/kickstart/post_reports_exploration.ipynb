{
 "cells": [
  {
   "cell_type": "markdown",
   "metadata": {},
   "source": [
    "# Connect to historic data API"
   ]
  },
  {
   "cell_type": "code",
   "execution_count": 1,
   "metadata": {},
   "outputs": [
    {
     "name": "stderr",
     "output_type": "stream",
     "text": [
      "/Users/come.vitis/Documents/Personnal/Projects/finance-env/lib/python3.10/site-packages/requests/__init__.py:102: RequestsDependencyWarning: urllib3 (1.26.9) or chardet (5.0.0)/charset_normalizer (2.0.12) doesn't match a supported version!\n",
      "  warnings.warn(\"urllib3 ({}) or chardet ({})/charset_normalizer ({}) doesn't match a supported \"\n"
     ]
    }
   ],
   "source": [
    "# Free API, no credentials needed\n",
    "import yfinance as yf\n",
    "\n",
    "import pandas as pd\n",
    "import utils\n",
    "from datapackage import Package, Resource"
   ]
  },
  {
   "cell_type": "code",
   "execution_count": 2,
   "metadata": {},
   "outputs": [],
   "source": [
    "# Constants\n",
    "TICKERS = {\n",
    "    \"S&P500\": \"^GSPC\"\n",
    "}"
   ]
  },
  {
   "cell_type": "code",
   "execution_count": null,
   "metadata": {},
   "outputs": [],
   "source": [
    "# Load heavy resources here\n",
    "# Get the constituents of S&P500 \n",
    "sp500_constituents = utils.load_sp_500_constituents() # Default scrap mode is false"
   ]
  },
  {
   "cell_type": "code",
   "execution_count": 5,
   "metadata": {},
   "outputs": [
    {
     "name": "stdout",
     "output_type": "stream",
     "text": [
      "   Unnamed: 0 symbol              company       sector\n",
      "0           0    MMM                   3M  Industrials\n",
      "1           1    AOS          A. O. Smith  Industrials\n",
      "2           2    ABT  Abbott Laboratories  Health Care\n",
      "3           3   ABBV               AbbVie  Health Care\n",
      "4           4   ABMD              Abiomed  Health Care\n"
     ]
    }
   ],
   "source": [
    "# Arbitrarly for now: select 5 companies\n",
    "top_5 = sp500_constituents[:5]"
   ]
  },
  {
   "cell_type": "code",
   "execution_count": 4,
   "metadata": {},
   "outputs": [],
   "source": [
    "# All information here : https://pypi.org/project/yfinance/"
   ]
  }
 ],
 "metadata": {
  "kernelspec": {
   "display_name": "Python 3.9.2 ('finance-env')",
   "language": "python",
   "name": "python3"
  },
  "language_info": {
   "codemirror_mode": {
    "name": "ipython",
    "version": 3
   },
   "file_extension": ".py",
   "mimetype": "text/x-python",
   "name": "python",
   "nbconvert_exporter": "python",
   "pygments_lexer": "ipython3",
   "version": "3.10.4"
  },
  "vscode": {
   "interpreter": {
    "hash": "0608b45c1890125a04d2761219b13cfaf62226deb1632e58303317a8d97d9a8c"
   }
  }
 },
 "nbformat": 4,
 "nbformat_minor": 2
}
